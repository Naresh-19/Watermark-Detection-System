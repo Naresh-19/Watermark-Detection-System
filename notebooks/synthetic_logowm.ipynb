{
 "cells": [
  {
   "cell_type": "code",
   "execution_count": 1,
   "id": "71975ea7",
   "metadata": {},
   "outputs": [
    {
     "name": "stdout",
     "output_type": "stream",
     "text": [
      "100 images processed...\n",
      "200 images processed...\n",
      "300 images processed...\n",
      "400 images processed...\n",
      "500 images processed...\n",
      "600 images processed...\n",
      "700 images processed...\n",
      "800 images processed...\n",
      "900 images processed...\n",
      "1000 images processed...\n",
      "Finished generating 1000 logo-watermarked images!\n"
     ]
    }
   ],
   "source": [
    "import os\n",
    "import random\n",
    "from PIL import Image\n",
    "from pathlib import Path\n",
    "\n",
    "\n",
    "base_path = Path(r\"D:\\project\\Watermark_Detection\\dataset\") # ---------- Change this path ----------  \n",
    "\n",
    "clean_images_folder = base_path / \"wm-nowm\\train\\no-watermark\"\n",
    "logo_folder = r\"D:\\project\\Watermark_Detection\\logos\\logos\"  # -------  Change the path ---------\n",
    "output_folder = base_path / \"wm-nowm-final\\train\\watermark\" # Where to save logo-watermarked images\n",
    "\n",
    "os.makedirs(output_folder, exist_ok=True)\n",
    "\n",
    "# Load all clean images and logos\n",
    "clean_images = [os.path.join(clean_images_folder, f) for f in os.listdir(clean_images_folder) if f.lower().endswith(('.jpg', '.jpeg', '.png'))]\n",
    "logo_images = [os.path.join(logo_folder, f) for f in os.listdir(logo_folder) if f.lower().endswith(('.jpg', '.jpeg', '.png'))]\n",
    "\n",
    "random.shuffle(clean_images)\n",
    "selected_clean_images = clean_images[:1000]\n",
    "\n",
    "# Process each selected clean image\n",
    "for idx, clean_image_path in enumerate(selected_clean_images):\n",
    "    try:\n",
    "        # Open clean image\n",
    "        clean_img = Image.open(clean_image_path).convert(\"RGBA\")\n",
    "\n",
    "        # Randomly select a logo\n",
    "        logo_path = random.choice(logo_images)\n",
    "        logo = Image.open(logo_path).convert(\"RGBA\")\n",
    "\n",
    "        logo_ratio = random.uniform(0.1, 0.2)\n",
    "        logo_width = int(clean_img.width * logo_ratio)\n",
    "        logo_height = int(logo.height * (logo_width / logo.width))\n",
    "        logo = logo.resize((logo_width, logo_height))\n",
    "\n",
    "        # Random position for the logo\n",
    "        max_x = clean_img.width - logo.width\n",
    "        max_y = clean_img.height - logo.height\n",
    "        x = random.randint(0, max_x)\n",
    "        y = random.randint(0, max_y)\n",
    "\n",
    "        # Paste logo onto clean image\n",
    "        clean_img.paste(logo, (x, y), logo)\n",
    "\n",
    "        # Save the resulting image\n",
    "        output_filename = f\"logo_watermarked_{idx+1}.jpg\"\n",
    "        output_path = os.path.join(output_folder, output_filename)\n",
    "\n",
    "        clean_img.convert('RGB').save(output_path)\n",
    "\n",
    "        if (idx + 1) % 100 == 0:\n",
    "            print(f\"{idx + 1} images processed...\")\n",
    "\n",
    "    except Exception as e:\n",
    "        print(f\"Error processing {clean_image_path}: {e}\")\n",
    "\n",
    "print(\"Finished generating 1000 logo-watermarked images!\")\n"
   ]
  }
 ],
 "metadata": {
  "kernelspec": {
   "display_name": "base",
   "language": "python",
   "name": "python3"
  },
  "language_info": {
   "codemirror_mode": {
    "name": "ipython",
    "version": 3
   },
   "file_extension": ".py",
   "mimetype": "text/x-python",
   "name": "python",
   "nbconvert_exporter": "python",
   "pygments_lexer": "ipython3",
   "version": "3.12.7"
  }
 },
 "nbformat": 4,
 "nbformat_minor": 5
}
